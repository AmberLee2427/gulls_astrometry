{
 "cells": [
  {
   "cell_type": "code",
   "execution_count": 1,
   "id": "9454e92f",
   "metadata": {},
   "outputs": [],
   "source": [
    "import os, pathlib\n",
    "os.chdir(\"/Users/gregcc/Documents/GitHub/SURP25/Microlensing\")"
   ]
  },
  {
   "cell_type": "code",
   "execution_count": 3,
   "id": "5ecf1abf",
   "metadata": {},
   "outputs": [],
   "source": [
    "from astropy.io import ascii\n",
    "import matplotlib.pyplot as plt\n",
    "import numpy as np\n",
    "from ML import TwoLens1S\n",
    "from ML import ThreeLens1S\n",
    "from ML import OneL1S"
   ]
  },
  {
   "cell_type": "code",
   "execution_count": null,
   "id": "42a43d13",
   "metadata": {},
   "outputs": [],
   "source": [
    "def read_dic(data, lenses):\n",
    "    \"\"\"\n",
    "    \"\"\"\n",
    "    if lenses == 1:\n",
    "        keys = [\"t0\", \"tE\", \"rho\", \"u0\"]\n",
    "\n",
    "    if lenses == 2:\n",
    "        keys = [\"t0\", \"tE\", \"rho\", \"u0\", \"q\", \"s\", \"alpha\", \"BJD\"]\n",
    "\n",
    "    if lenses == 3:\n",
    "        keys == [\"t0\", \"tE\", \"rho\", \"u0\", \"q2\", \"q3\", \"s2\", \"s3\", \"alpha\", \"psi\"]\n",
    "\n",
    "    else:\n",
    "        raise ValueError(\"Error\")\n",
    "    \n",
    "    return {k: data[k] for k in keys if k in data}"
   ]
  },
  {
   "cell_type": "code",
   "execution_count": null,
   "id": "f9790cf9",
   "metadata": {},
   "outputs": [],
   "source": [
    "def centroid_shift_1l(data):\n",
    "    \"\"\"\n",
    "    \"\"\"\n",
    "    args = {\n",
    "        \"t0\": data[\"t0\"],\n",
    "        \"tE\": data [\"tE\"],\n",
    "        \"rho\": data [\"rho\"],\n",
    "        \"u0_list\": data.get(\"u0_list\", data[\"u0\"]),\n",
    "\n",
    "    }\n",
    "\n",
    "    single_model = OneL1S(**args)\n",
    "    one_system = single_model.systems[0]\n",
    "    dx = one_system['cent_x_hr'] - one_system['x_src_hr']\n",
    "    dy = one_system['cent_y_hr'] - one_system['y_src_hr']\n",
    "\n",
    "    return single_model, one_system, dx, dy"
   ]
  },
  {
   "cell_type": "code",
   "execution_count": null,
   "id": "d26549cf",
   "metadata": {},
   "outputs": [],
   "source": [
    "def centroid_shifts_2l(data):\n",
    "    \"\"\"\n",
    "    \"\"\"\n",
    "    args = {\n",
    "        \"t0\": data[\"t0\"],\n",
    "        \"tE\": data[\"tE\"],\n",
    "        \"rho\": data[\"rho\"],\n",
    "        \"u0_list\": data.get(\"u0_list\", data[\"u0\"]),   # accepts either name\n",
    "        \"q\": data.get(\"q\", data[\"q2\"]),               # q or q2\n",
    "        \"s\": data.get(\"s\", data[\"s2\"]),               # s or s2\n",
    "        \"alpha\": data(\"alpha\"),                   # alpha\n",
    "        \"t_lc\": data.get(\"BJD\", data.get(\"t_lc\")),    # accept BJD or t_lc\n",
    "    }\n",
    "\n",
    "    double_model = TwoLens1S(**args)\n",
    "    two_system = double_model.systems[0]\n",
    "    delta_x = two_system['cent_x_hr'] - two_system['x_src_hr']\n",
    "    delta_y = two_system['cent_y_hr'] - two_system['y_src_hr']\n",
    "    return double_model, two_system, delta_x, delta_y\n",
    "\n"
   ]
  },
  {
   "cell_type": "code",
   "execution_count": null,
   "id": "850bddb8",
   "metadata": {},
   "outputs": [],
   "source": [
    "def centroid_shifts_3l(data):\n",
    "    \"\"\"\n",
    "    \"\"\"\n",
    "    secnum = 45\n",
    "    basenum = 2\n",
    "\n",
    "    args = {\n",
    "        \"t0\": data[\"t0\"],\n",
    "        \"tE\": data[\"tE\"],\n",
    "        \"rho\": data[\"rho\"],\n",
    "        \"u0_list\": data.get(\"u0_list\", data[\"u0\"]),\n",
    "        \"q2\": data[\"q2\"],\n",
    "        \"q3\": data[\"q3\"],\n",
    "        \"s2\": data[\"s2\"],\n",
    "        \"s3\": data[\"s3\"],\n",
    "        \"alpha_deg\": data[\"alpha\"],   # default if missing\n",
    "        \"psi_deg\": data.get[\"psi\"],       # default if missing\n",
    "        \"rs\": data.get[\"rs\"],            # or supply your usual rs\n",
    "        \"secnum\": secnum,\n",
    "        \"basenum\": basenum,\n",
    "        \"num_points\": len(data.get(\"BJD\", data.get(\"t_lc\", []))),\n",
    "    }\n",
    "\n",
    "    triple_model = ThreeLens1S(**args)\n",
    "    triple_system = triple_model.systems[0]\n",
    "    delta_x_three = triple_system['cent_x_hr'] - triple_system['x_src_hr']\n",
    "    delta_y_three = triple_system['cent_y_hr'] - triple_system['y_src_hr']\n",
    "    return triple_model, triple_system, delta_x_three, delta_y_three\n"
   ]
  }
 ],
 "metadata": {
  "kernelspec": {
   "display_name": "TheGuide",
   "language": "python",
   "name": "python3"
  },
  "language_info": {
   "codemirror_mode": {
    "name": "ipython",
    "version": 3
   },
   "file_extension": ".py",
   "mimetype": "text/x-python",
   "name": "python",
   "nbconvert_exporter": "python",
   "pygments_lexer": "ipython3",
   "version": "3.12.10"
  }
 },
 "nbformat": 4,
 "nbformat_minor": 5
}
